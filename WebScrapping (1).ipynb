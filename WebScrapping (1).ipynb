{
  "nbformat": 4,
  "nbformat_minor": 0,
  "metadata": {
    "colab": {
      "provenance": []
    },
    "kernelspec": {
      "name": "python3",
      "display_name": "Python 3"
    },
    "language_info": {
      "name": "python"
    }
  },
  "cells": [
    {
      "cell_type": "code",
      "source": [
        "pip install requests beautifulsoup4"
      ],
      "metadata": {
        "colab": {
          "base_uri": "https://localhost:8080/"
        },
        "id": "8OvLMERX-TA8",
        "outputId": "d61b47fc-5b96-4465-e0e0-25157759f031"
      },
      "execution_count": null,
      "outputs": [
        {
          "output_type": "stream",
          "name": "stdout",
          "text": [
            "Requirement already satisfied: requests in /usr/local/lib/python3.10/dist-packages (2.31.0)\n",
            "Requirement already satisfied: beautifulsoup4 in /usr/local/lib/python3.10/dist-packages (4.12.3)\n",
            "Requirement already satisfied: charset-normalizer<4,>=2 in /usr/local/lib/python3.10/dist-packages (from requests) (3.3.2)\n",
            "Requirement already satisfied: idna<4,>=2.5 in /usr/local/lib/python3.10/dist-packages (from requests) (3.6)\n",
            "Requirement already satisfied: urllib3<3,>=1.21.1 in /usr/local/lib/python3.10/dist-packages (from requests) (2.0.7)\n",
            "Requirement already satisfied: certifi>=2017.4.17 in /usr/local/lib/python3.10/dist-packages (from requests) (2024.2.2)\n",
            "Requirement already satisfied: soupsieve>1.2 in /usr/local/lib/python3.10/dist-packages (from beautifulsoup4) (2.5)\n"
          ]
        }
      ]
    },
    {
      "cell_type": "markdown",
      "source": [
        "# Fast NUCES Admission Schedule"
      ],
      "metadata": {
        "id": "ADABq8hG-buW"
      }
    },
    {
      "cell_type": "code",
      "source": [
        "import requests\n",
        "from bs4 import BeautifulSoup\n",
        "\n",
        "# URL of the page to scrape\n",
        "url = \"https://www.nu.edu.pk/Admissions/Schedule\"\n",
        "\n",
        "# Fetch the HTML content of the page\n",
        "response = requests.get(url)\n",
        "html_content = response.content\n",
        "\n",
        "# Parse the HTML content using BeautifulSoup\n",
        "soup = BeautifulSoup(html_content, \"html.parser\")\n",
        "\n",
        "# Find the table element\n",
        "table_element = soup.find(\"table\", class_=\"edu-table-responsive\")\n",
        "\n",
        "# Extract the content from the table\n",
        "table_content = []\n",
        "if table_element:\n",
        "    # Find all rows in the table\n",
        "    rows = table_element.find_all(\"tr\")\n",
        "\n",
        "    # Iterate through each row\n",
        "    for row in rows:\n",
        "        # Find all cells in the row\n",
        "        cells = row.find_all([\"th\", \"td\"])\n",
        "        # Extract text from each cell and append to table_content list\n",
        "        row_data = [cell.get_text(strip=True) for cell in cells]\n",
        "        table_content.append(row_data)\n",
        "\n",
        "# Print the extracted content\n",
        "for row in table_content:\n",
        "    print(\" | \".join(row))\n"
      ],
      "metadata": {
        "colab": {
          "base_uri": "https://localhost:8080/"
        },
        "id": "OvLTpGzw-kqH",
        "outputId": "e95c9f95-212c-4e1d-ba64-f41055e3dd47"
      },
      "execution_count": null,
      "outputs": [
        {
          "output_type": "stream",
          "name": "stdout",
          "text": [
            "Tentative Admission Schedule 2023 | BBA, BS (A&F) & BS | MBA, MS & PhD\n",
            "Admission Application Submission | May 29 - Jul 15 | May 29 - Jul 15\n",
            "Admission Tests | Jul 10 - 22 | Jul 10 - 22\n",
            "Declaration of selected / test qualified  candidates (1st Merit List ) | Jul 24 | Jul 24\n",
            "Declaration of selected / test qualified  candidates (2nd Merit List ) | Aug 07 | Aug 07\n",
            "Interviews | - | Aug 07\n",
            "Admission Formalities | Jul 24 - Aug 18 | Aug 07 - Aug 18\n",
            "Commencement of classes | Aug 21 | Aug 21\n"
          ]
        }
      ]
    },
    {
      "cell_type": "markdown",
      "source": [
        "#NUST Asmission Schedule"
      ],
      "metadata": {
        "id": "kFrcvcZl-ugx"
      }
    },
    {
      "cell_type": "code",
      "source": [
        "import requests\n",
        "from bs4 import BeautifulSoup\n",
        "\n",
        "# URL of the website\n",
        "url = \"https://nust.edu.pk/admissions/undergraduates/dates-to-remember/\"\n",
        "\n",
        "# Add user-agent headers\n",
        "headers = {'User-Agent': 'Mozilla/5.0 (Windows NT 10.0; Win64; x64) AppleWebKit/537.36 (KHTML, like Gecko) Chrome/58.0.3029.110 Safari/537.3'}\n",
        "\n",
        "# Send a GET request to the URL with headers\n",
        "response = requests.get(url, headers=headers)\n",
        "\n",
        "# Check if the request was successful (status code 200)\n",
        "if response.status_code == 200:\n",
        "    # Parse the HTML content\n",
        "    soup = BeautifulSoup(response.content, 'html.parser')\n",
        "\n",
        "    # Find the specific content using its inspection details\n",
        "    schedule_table = soup.find('h5', string='Schedule of NUST Entry Test – 2024 (Tentative)').find_next('table')\n",
        "    act_sat_table = soup.find('h5', string='Schedule of ACT / SAT Basis Applications – 2024').find_next('table')\n",
        "\n",
        "    # Extract and print the tables\n",
        "    print(\"Schedule of NUST Entry Test – 2024 (Tentative)\")\n",
        "    print(schedule_table.text.strip())\n",
        "    print(\"\\nSchedule of ACT / SAT Basis Applications – 2024\")\n",
        "    print(act_sat_table.text.strip())\n",
        "else:\n",
        "    print(\"Failed to retrieve the webpage\")\n",
        "\n"
      ],
      "metadata": {
        "id": "g_l7KjaK-s3K",
        "colab": {
          "base_uri": "https://localhost:8080/"
        },
        "outputId": "e8fdfae6-b2d4-4488-ccab-955b8261335e"
      },
      "execution_count": null,
      "outputs": [
        {
          "output_type": "stream",
          "name": "stdout",
          "text": [
            "Schedule of NUST Entry Test – 2024 (Tentative)\n",
            "Series​\n",
            "Online Registration​\n",
            "​CBNET\n",
            "PBNET\n",
            "Test Centre\n",
            "\n",
            "\n",
            "Series – 1​\n",
            " 29 Oct – 10 Dec 2023\n",
            "9 – 20 Dec 2023\n",
            "–\n",
            "Isb\n",
            "\n",
            "\n",
            "Series – 2\n",
            "31 Dec 2023 – 18 Feb 2024\n",
            " 13  – 22 Feb 2024 (Isb)\n",
            "2 – 4 Mar (Qta)\n",
            "2 – 4 Mar 2024 (Kci)\n",
            "Isb, Qta, Kci\n",
            "\n",
            "\n",
            "Series – 3\n",
            " 25 Feb – 25 Mar 2024\n",
            " 26 Mar 2024 onwards\n",
            "–\n",
            "Isb\n",
            "\n",
            "\n",
            "Series – 4\n",
            " Apr – Jun 2024\n",
            " Jun – Jul 2024\n",
            "Jul 2024\n",
            "Isb, Qta, Kci, GB\n",
            "\n",
            "Schedule of ACT / SAT Basis Applications – 2024\n",
            "Online Registration​\n",
            "​Last Date to Receive​ ACT / SAT Scores\n",
            "\n",
            "\n",
            "May – July 2024\n",
            "25 July 2024\n"
          ]
        }
      ]
    },
    {
      "cell_type": "code",
      "source": [
        "import requests\n",
        "from bs4 import BeautifulSoup\n",
        "import pandas as pd\n",
        "\n",
        "# URL of the website\n",
        "url = \"https://nust.edu.pk/admissions/undergraduates/dates-to-remember/\"\n",
        "\n",
        "# Add user-agent headers\n",
        "headers = {'User-Agent': 'Mozilla/5.0 (Windows NT 10.0; Win64; x64) AppleWebKit/537.36 (KHTML, like Gecko) Chrome/58.0.3029.110 Safari/537.3'}\n",
        "\n",
        "# Send a GET request to the URL with headers\n",
        "response = requests.get(url, headers=headers)\n",
        "\n",
        "# Check if the request was successful (status code 200)\n",
        "if response.status_code == 200:\n",
        "    # Parse the HTML content\n",
        "    soup = BeautifulSoup(response.content, 'html.parser')\n",
        "\n",
        "    # Find the specific content using its inspection details\n",
        "    schedule_table = soup.find('h5', string='Schedule of NUST Entry Test – 2024 (Tentative)').find_next('table')\n",
        "    act_sat_table = soup.find('h5', string='Schedule of ACT / SAT Basis Applications – 2024').find_next('table')\n",
        "\n",
        "    # Convert tables to pandas DataFrames\n",
        "    df_schedule = pd.read_html(str(schedule_table))[0]\n",
        "    df_act_sat = pd.read_html(str(act_sat_table))[0]\n",
        "\n",
        "    # Display the DataFrames\n",
        "    print(\"Schedule of NUST Entry Test – 2024 (Tentative)\")\n",
        "    print(df_schedule)\n",
        "    print(\"\\nSchedule of ACT / SAT Basis Applications – 2024\")\n",
        "    print(df_act_sat)\n",
        "else:\n",
        "    print(\"Failed to retrieve the webpage\")\n"
      ],
      "metadata": {
        "colab": {
          "base_uri": "https://localhost:8080/"
        },
        "id": "k1SvpJGu5ilq",
        "outputId": "0cd66262-92ae-4a2a-ca18-5bb004b391bd"
      },
      "execution_count": null,
      "outputs": [
        {
          "output_type": "stream",
          "name": "stdout",
          "text": [
            "Schedule of NUST Entry Test – 2024 (Tentative)\n",
            "       Series​       Online Registration​  \\\n",
            "0  Series – 1​       29 Oct – 10 Dec 2023   \n",
            "1   Series – 2  31 Dec 2023 – 18 Feb 2024   \n",
            "2   Series – 3       25 Feb – 25 Mar 2024   \n",
            "3   Series – 4             Apr – Jun 2024   \n",
            "\n",
            "                                   ​CBNET                 PBNET  \\\n",
            "0                         9 – 20 Dec 2023                     –   \n",
            "1  13 – 22 Feb 2024 (Isb) 2 – 4 Mar (Qta)  2 – 4 Mar 2024 (Kci)   \n",
            "2                     26 Mar 2024 onwards                     –   \n",
            "3                          Jun – Jul 2024              Jul 2024   \n",
            "\n",
            "         Test Centre  \n",
            "0                Isb  \n",
            "1      Isb, Qta, Kci  \n",
            "2                Isb  \n",
            "3  Isb, Qta, Kci, GB  \n",
            "\n",
            "Schedule of ACT / SAT Basis Applications – 2024\n",
            "  Online Registration​ ​Last Date to Receive​ ACT / SAT Scores\n",
            "0      May – July 2024                            25 July 2024\n"
          ]
        }
      ]
    },
    {
      "cell_type": "markdown",
      "source": [
        "# LUMS Admission Schedule"
      ],
      "metadata": {
        "id": "bEJlFQ1V5oob"
      }
    },
    {
      "cell_type": "code",
      "source": [
        "import requests\n",
        "from bs4 import BeautifulSoup\n",
        "\n",
        "# URL of the webpage\n",
        "url = \"https://admission.lums.edu.pk/critical-dates-all-programmes\"\n",
        "\n",
        "# Send a GET request to the URL\n",
        "response = requests.get(url)\n",
        "\n",
        "# Parse the HTML content\n",
        "soup = BeautifulSoup(response.text, 'html.parser')\n",
        "\n",
        "# Find all rows containing schedule information\n",
        "schedule_rows = soup.find_all('div', class_='views-row')\n",
        "\n",
        "# Initialize a dictionary to store the schedule\n",
        "schedule = {}\n",
        "\n",
        "# Iterate over each row and extract the date and event\n",
        "for row in schedule_rows:\n",
        "    event_title = row.find('div', class_='date-title').text.strip()\n",
        "    event_date = row.find('div', class_='date-long').text.strip()\n",
        "    schedule[event_title] = event_date\n",
        "\n",
        "# Print the extracted schedule\n",
        "for title, date in schedule.items():\n",
        "    print(f\"{title}: {date}\")\n"
      ],
      "metadata": {
        "colab": {
          "base_uri": "https://localhost:8080/"
        },
        "id": "N_ItUdeH5sma",
        "outputId": "31f94c1c-f69c-4aed-df42-07cd1be41a2b"
      },
      "execution_count": null,
      "outputs": [
        {
          "output_type": "stream",
          "name": "stdout",
          "text": [
            "UG Online Application Deadline: Wednesday, January 31, 2024\n",
            " 05:00 PM ( PKT )\n",
            "Deadline to upload supporting documents (Online) and make the Fee Payment: Thursday, February 01, 2024\n",
            " 12:00 AM ( PKT )\n",
            "LUMS Common Admission Test (LCAT) and LUMS SBASSE Scientific Aptitude Test Administration: Sunday, February 25, 2024\n",
            " 12:00 AM ( PKT )\n",
            "Deadline to take SAT: Saturday, March 09, 2024\n",
            " 12:00 AM ( PKT )\n",
            "Deadline to take ACT: Saturday, April 13, 2024\n",
            " 12:00 AM ( PKT )\n",
            "Admission Decisions: Thursday, December 15, 2022\n",
            " 12:00 AM ( PKT )\n",
            "Online Application Deadline: Tuesday, October 04, 2022\n",
            " 05:00 PM ( PKT )\n",
            "Deadline to submit online supporting documents: Wednesday, April 17, 2024\n",
            " 12:00 AM ( PKT )\n",
            "LUMS Graduate Admission Test (LGAT) Administration: Sunday, April 28, 2024\n",
            " 12:00 AM ( PKT )\n",
            "Deadline to take GMAT/GRE/NTS GAT(General): Sunday, April 28, 2024\n",
            " 12:00 AM ( PKT )\n",
            "Completion of Admission Process: Wednesday, July 31, 2024\n",
            " 12:00 AM ( PKT )\n",
            "Deadline to submit Online supporting documents: Thursday, October 06, 2022\n",
            " 12:00 AM ( PKT )\n",
            "Deadline to take GRE: Sunday, October 16, 2022\n",
            " 12:00 AM ( PKT )\n",
            "LUMS Graduate Admission Test (LGAT) and LUMS SBASSE Subject Test Administration (Tentative Date): Sunday, April 28, 2024\n",
            " 12:00 AM ( PKT )\n",
            "Deadline to take GMAT/GRE/NTS GAT: Sunday, March 17, 2024\n",
            " 12:00 AM ( PKT )\n",
            "LUMS Graduate Admission Test (LGAT) Administration (Tentative Date): Sunday, April 28, 2024\n",
            " 12:00 AM ( PKT )\n",
            "Deadline to submit Online Application - LUMS UG Continuing Students: Tuesday, April 16, 2024\n",
            " 05:00 PM ( PKT )\n",
            "Deadline to submit Online supporting documents - LUMS UG Continuing Students: Wednesday, April 17, 2024\n",
            " 12:00 AM ( PKT )\n",
            "LUMS Graduate Admission Test (LGAT): Sunday, April 28, 2024\n",
            " 12:00 AM ( PKT )\n",
            "Deadline to take GMAT/GRE: Sunday, April 28, 2024\n",
            " 12:00 AM ( PKT )\n",
            "Activation of LUMS Online Admission Application: Tuesday, September 06, 2022\n",
            " 12:00 AM ( PKT )\n",
            "LGAT and SBASSE Subject Test: Sunday, October 16, 2022\n",
            " 12:00 AM ( PKT )\n",
            "Activation of LUMS Online Admission Application.: Tuesday, September 06, 2022\n",
            " 12:00 AM ( PKT )\n"
          ]
        }
      ]
    },
    {
      "cell_type": "code",
      "source": [
        "# This is just undergraduate programs info. MS PHD needs separate scrapping."
      ],
      "metadata": {
        "id": "TIMPE2Mk8JNs"
      },
      "execution_count": null,
      "outputs": []
    },
    {
      "cell_type": "markdown",
      "source": [
        "# COMSATS Admission Schedule"
      ],
      "metadata": {
        "id": "-rpz3_2C77oH"
      }
    },
    {
      "cell_type": "code",
      "source": [
        "import requests\n",
        "from bs4 import BeautifulSoup\n",
        "\n",
        "# URL of the page containing the schedule\n",
        "url = \"https://giki.edu.pk/admissions/admissions-undergraduates/\"\n",
        "\n",
        "# Send a GET request to the URL\n",
        "response = requests.get(url)\n",
        "\n",
        "# Parse the HTML content\n",
        "soup = BeautifulSoup(response.text, 'html.parser')\n",
        "\n",
        "# Find the table containing the schedule\n",
        "schedule_table = soup.find('tbody')\n",
        "\n",
        "# Initialize a dictionary to store the schedule\n",
        "schedule = {}\n",
        "\n",
        "# Iterate over each row in the table and extract the event and date\n",
        "for row in schedule_table.find_all('tr'):\n",
        "    event = row.find('td').text.strip()\n",
        "    date = row.find('strong').text.strip()\n",
        "    schedule[event] = date\n",
        "\n",
        "# Print the extracted schedule\n",
        "for event, date in schedule.items():\n",
        "    print(f\"{event}: {date}\")\n"
      ],
      "metadata": {
        "colab": {
          "base_uri": "https://localhost:8080/"
        },
        "id": "Knx9M6_v8OPg",
        "outputId": "6f88ba6a-036d-4821-9024-5ae259d96343"
      },
      "execution_count": null,
      "outputs": [
        {
          "output_type": "stream",
          "name": "stdout",
          "text": [
            "Application Deadline: July 03, 2023\n",
            "Last Date for Receipt of Financial Assistance Documents: July 03, 2023\n",
            "Admission Test: July 13 – 16, 2023\n",
            "Result Announcement: July 24, 2023\n",
            "Merit List: July 24, 2023\n",
            "Joining & Orientation: September 02, 2023\n",
            "Commencement of Classes: September 04, 2023\n"
          ]
        }
      ]
    },
    {
      "cell_type": "code",
      "source": [
        "#This is UG admission schedule. For further info visit..."
      ],
      "metadata": {
        "id": "Tf7sjGSLBXA9"
      },
      "execution_count": null,
      "outputs": []
    },
    {
      "cell_type": "markdown",
      "source": [
        "# UET Admission Schedule"
      ],
      "metadata": {
        "id": "LsbN2nm5BgXs"
      }
    },
    {
      "cell_type": "code",
      "source": [
        "import requests\n",
        "from bs4 import BeautifulSoup\n",
        "\n",
        "# URL of the webpage\n",
        "url = \"https://admissions.uettaxila.edu.pk/Schedule.php\"\n",
        "\n",
        "# Send a GET request to the webpage\n",
        "response = requests.get(url)\n",
        "\n",
        "# Parse the HTML content\n",
        "soup = BeautifulSoup(response.content, 'html.parser')\n",
        "\n",
        "# Find the div with ID 'text_div'\n",
        "text_div = soup.find('div', id='text_div')\n",
        "\n",
        "# Print the contents of the 'text_div'\n",
        "if text_div:\n",
        "    print(text_div.get_text())\n",
        "else:\n",
        "    print(\"The div with ID 'text_div' was not found on the page.\")\n"
      ],
      "metadata": {
        "colab": {
          "base_uri": "https://localhost:8080/"
        },
        "id": "Dou_mjGfCFsn",
        "outputId": "a6a1e4bf-09e1-4e83-85b6-9cdd8dc78c26"
      },
      "execution_count": null,
      "outputs": [
        {
          "output_type": "stream",
          "name": "stdout",
          "text": [
            "\n",
            "\n",
            "Admission Schedule\n",
            "\n",
            "\n",
            " \n",
            " \n",
            "\r\n",
            "                                ENTRY - 2024 \n",
            "\n",
            "\n",
            "\n",
            "Sr.# \n",
            "Event\n",
            "Date\n",
            "Time\n",
            "\n",
            "\n",
            "\n",
            "1\n",
            "Online Registration for Entry Test Starting date \n",
            "08th January, 2024\n",
            "--\n",
            "\n",
            "\n",
            "2\n",
            "Last Date for receiving of Entry Test Tokens from HBL Banks and Online\n",
            "29th February, 2024\n",
            "--\n",
            "\n",
            "\n",
            "3\n",
            "Last Date for Entry Test Registration\n",
            "29th February, 2024\n",
            "--\n",
            "\n",
            "\n",
            "4\n",
            "Orientation Session (To guide the candidates on attempting computer based test in the assigned test centers at the alloted time )\n",
            "08th and 09th March, 2024\n",
            "--\n",
            "\n",
            "\n",
            "5\n",
            "Entry Test (In the assigned test centers at the alloted time)\n",
            "11th to 15th March, 2024\n",
            "--\n",
            "\n",
            "\n",
            "6\n",
            "Declaration of Entry Test Result (On UET Lahore's admission portal)\n",
            "22th March, 2024\n",
            "--\n",
            "\n",
            "\n",
            "\n",
            "\r\n",
            "                                Admissions will be announced after ECAT-2024. Only those candidate will be able to apply who will appear in ECAT-2024, being conducted by UET Lahore.\r\n",
            "                                \n",
            "\n",
            "\n",
            "\n",
            "\n",
            "\n"
          ]
        }
      ]
    },
    {
      "cell_type": "markdown",
      "source": [
        "# NUML Admission Shedule"
      ],
      "metadata": {
        "id": "fppweVuRMIqX"
      }
    },
    {
      "cell_type": "code",
      "source": [
        "import requests\n",
        "from bs4 import BeautifulSoup\n",
        "\n",
        "# URL of the webpage\n",
        "url = \"https://www.numl.edu.pk/admission_navigation\"\n",
        "\n",
        "# Send a GET request to the webpage\n",
        "response = requests.get(url)\n",
        "\n",
        "# Parse the HTML content\n",
        "soup = BeautifulSoup(response.content, 'html.parser')\n",
        "\n",
        "# Find the table\n",
        "table = soup.find('table')\n",
        "\n",
        "# Initialize an empty list to store the extracted data\n",
        "data = []\n",
        "\n",
        "# If the table is found\n",
        "if table:\n",
        "    # Find all rows in the table\n",
        "    rows = table.find_all('tr')\n",
        "\n",
        "    # Loop through each row\n",
        "    for row in rows:\n",
        "        # Find all cells in the row\n",
        "        cells = row.find_all('td')\n",
        "\n",
        "        # Extract text from each cell and append to the data list\n",
        "        row_data = [cell.get_text(strip=True) for cell in cells]\n",
        "        data.append(row_data)\n",
        "\n",
        "    # Print the extracted data\n",
        "    for row in data:\n",
        "        print('\\t'.join(row))\n",
        "else:\n",
        "    print(\"The table was not found on the page.\")\n"
      ],
      "metadata": {
        "colab": {
          "base_uri": "https://localhost:8080/"
        },
        "id": "dycd1cCjN0Du",
        "outputId": "c277ff30-ec46-4337-fa07-f8ec808fcc17"
      },
      "execution_count": null,
      "outputs": [
        {
          "output_type": "stream",
          "name": "stdout",
          "text": [
            "\n",
            "All Languages /Functional Courses - Registration open\tJanuary 22, 2024\n",
            "Deadline for Submission of Online Applications for NUML Regional Campuses\tVisit Respective Campus Webpage\n",
            "Start of Classes (Regular Courses) - Spring 2024\tFebruary 12, 2024\n"
          ]
        }
      ]
    },
    {
      "cell_type": "markdown",
      "source": [
        "# UVAS Admission Schedule"
      ],
      "metadata": {
        "id": "0VaYTxVVOFIi"
      }
    },
    {
      "cell_type": "code",
      "source": [
        "import requests\n",
        "from bs4 import BeautifulSoup\n",
        "\n",
        "# URL of the webpage\n",
        "url = \"https://uvas.edu.pk/Admissions/undergraduate/schedule/index.htm\"\n",
        "\n",
        "# Send a GET request to the webpage\n",
        "response = requests.get(url)\n",
        "\n",
        "# Parse the HTML content\n",
        "soup = BeautifulSoup(response.content, 'html.parser')\n",
        "\n",
        "# Find the table\n",
        "table = soup.find('table')\n",
        "\n",
        "# Initialize an empty list to store the extracted data\n",
        "data = []\n",
        "\n",
        "# If the table is found\n",
        "if table:\n",
        "    # Find all rows in the table\n",
        "    rows = table.find_all('tr')\n",
        "\n",
        "    # Loop through each row\n",
        "    for row in rows:\n",
        "        # Find all cells in the row\n",
        "        cells = row.find_all('td')\n",
        "\n",
        "        # Extract text from each cell and append to the data list\n",
        "        row_data = [cell.get_text(strip=True) for cell in cells]\n",
        "        data.append(row_data)\n",
        "\n",
        "    # Print the extracted data\n",
        "    for row in data:\n",
        "        print('\\t'.join(row))\n",
        "else:\n",
        "    print(\"The table was not found on the page.\")\n"
      ],
      "metadata": {
        "colab": {
          "base_uri": "https://localhost:8080/"
        },
        "id": "tGf6O6UtQwx6",
        "outputId": "bed1d139-cc0c-482c-c790-19a5d87604b9"
      },
      "execution_count": null,
      "outputs": [
        {
          "output_type": "stream",
          "name": "stdout",
          "text": [
            "Revised Schedule of UG Admission 2023EventDateDayOnline Prospectus / Admission Penal Available19-09-2023TuesdayLast Date for Submission of Applications27-10-2023FridayHafiz-e-Quran Test31-10-2023TuesdayDisplay of Tentative Master List01-11-2023WednesdayDisplay of Final Master List04-11-2023SaturdayFirst Merit List07-11-2023TuesdayLast Date for Deposit of Dues13-11-2023MondaySecond Merit List15-11-2023WednesdayLast Date for Deposit of Dues17-11-2023FridayThird Merit List20-11-2023MondayLast Date for Deposit of Dues22-11-2023WednesdayFourth Merit List24-11-2023FridayLast Date for Deposit of Dues28-11-2023TuesdayFifth Merit List30-11-2023ThursdayLast Date for Deposit of Dues04-12-2023MondayCommencement of Classes28-11-2023TuesdaySports Trail15-11-2023 to17-11-2023Tuesday to ThursdayMedical Board17-11-2023FridayDisplay of All Quota Lists Except Nominations From Other    Provinces / Armed Forces22-11-2023WednesdayNote:Subsequent merit lists other  than above mentioned schedule against the vacant seats (if any) in respective  programs may be displayed upto three weeks after the commencement of classes.\tEvent\tDate\tDay\tOnline Prospectus / Admission Penal Available\t19-09-2023\tTuesday\tLast Date for Submission of Applications\t27-10-2023\tFriday\tHafiz-e-Quran Test\t31-10-2023\tTuesday\tDisplay of Tentative Master List\t01-11-2023\tWednesday\tDisplay of Final Master List\t04-11-2023\tSaturday\tFirst Merit List\t07-11-2023\tTuesday\tLast Date for Deposit of Dues\t13-11-2023\tMonday\tSecond Merit List\t15-11-2023\tWednesday\tLast Date for Deposit of Dues\t17-11-2023\tFriday\tThird Merit List\t20-11-2023\tMonday\tLast Date for Deposit of Dues\t22-11-2023\tWednesday\tFourth Merit List\t24-11-2023\tFriday\tLast Date for Deposit of Dues\t28-11-2023\tTuesday\tFifth Merit List\t30-11-2023\tThursday\tLast Date for Deposit of Dues\t04-12-2023\tMonday\tCommencement of Classes\t28-11-2023\tTuesday\t\tSports Trail\t15-11-2023 to17-11-2023\tTuesday to Thursday\tMedical Board\t17-11-2023\tFriday\t\tDisplay of All Quota Lists Except Nominations From Other    Provinces / Armed Forces\t22-11-2023\tWednesday\n",
            "Event\tDate\tDay\n",
            "Online Prospectus / Admission Penal Available\t19-09-2023\tTuesday\n",
            "Last Date for Submission of Applications\t27-10-2023\tFriday\n",
            "Hafiz-e-Quran Test\t31-10-2023\tTuesday\n",
            "Display of Tentative Master List\t01-11-2023\tWednesday\n",
            "Display of Final Master List\t04-11-2023\tSaturday\n",
            "First Merit List\t07-11-2023\tTuesday\n",
            "Last Date for Deposit of Dues\t13-11-2023\tMonday\n",
            "Second Merit List\t15-11-2023\tWednesday\n",
            "Last Date for Deposit of Dues\t17-11-2023\tFriday\n",
            "Third Merit List\t20-11-2023\tMonday\n",
            "Last Date for Deposit of Dues\t22-11-2023\tWednesday\n",
            "Fourth Merit List\t24-11-2023\tFriday\n",
            "Last Date for Deposit of Dues\t28-11-2023\tTuesday\n",
            "Fifth Merit List\t30-11-2023\tThursday\n",
            "Last Date for Deposit of Dues\t04-12-2023\tMonday\n",
            "Commencement of Classes\t28-11-2023\tTuesday\n",
            "\n",
            "Sports Trail\t15-11-2023 to17-11-2023\tTuesday to Thursday\n",
            "Medical Board\t17-11-2023\tFriday\n",
            "\n",
            "Display of All Quota Lists Except Nominations From Other    Provinces / Armed Forces\t22-11-2023\tWednesday\n",
            "\n"
          ]
        }
      ]
    },
    {
      "cell_type": "markdown",
      "source": [
        "# New Section"
      ],
      "metadata": {
        "id": "98vLmEbvSMDZ"
      }
    }
  ]
}